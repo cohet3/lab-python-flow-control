{
 "cells": [
  {
   "cell_type": "markdown",
   "id": "d3bfc191-8885-42ee-b0a0-bbab867c6f9f",
   "metadata": {
    "tags": []
   },
   "source": [
    "# Lab | Flow Control"
   ]
  },
  {
   "cell_type": "markdown",
   "id": "3851fcd1-cf98-4653-9c89-e003b7ec9400",
   "metadata": {},
   "source": [
    "## Exercise: Managing Customer Orders Optimized\n",
    "\n",
    "In the last lab, you were starting an online store that sells various products. To ensure smooth operations, you developed a program that manages customer orders and inventory.\n",
    "\n",
    "You did so without using flow control. Let's go a step further and improve this code.\n",
    "\n",
    "Follow the steps below to complete the exercise:\n",
    "\n",
    "1. Look at your code from the lab data structures, and improve repeated code with loops.\n",
    "\n",
    "2. Instead of asking the user to input the name of three products that a customer wants to order, do the following:\n",
    "    \n",
    "    a. Prompt the user to enter the name of a product that a customer wants to order.\n",
    "    \n",
    "    b. Add the product name to the \"customer_orders\" set.\n",
    "    \n",
    "    c. Ask the user if they want to add another product (yes/no).\n",
    "    \n",
    "    d. Continue the loop until the user does not want to add another product.\n",
    "\n",
    "3. Instead of updating the inventory by subtracting 1 from the quantity of each product, only do it for  the products that were ordered (those in \"customer_orders\")."
   ]
  },
  {
   "cell_type": "markdown",
   "id": "a49055d5",
   "metadata": {},
   "source": []
  },
  {
   "cell_type": "code",
   "execution_count": 1,
   "id": "fc0db655",
   "metadata": {},
   "outputs": [
    {
     "name": "stdout",
     "output_type": "stream",
     "text": [
      "2 is not in the products list. Please enter a valid product.\n",
      "\n",
      "Products in customer order: set()\n",
      "\n",
      "Order Statistics:\n",
      "Total Products Ordered: 0\n",
      "Percentage of Products Ordered: 0.00%\n",
      "\n",
      "Updated Inventory:\n",
      "t-shirt: 4\n",
      "mug: 2\n",
      "hat: 3\n",
      "book: 4\n",
      "keychain: 5\n"
     ]
    }
   ],
   "source": [
    "# Step 1: Define a list called products\n",
    "products = [\"t-shirt\", \"mug\", \"hat\", \"book\", \"keychain\"]\n",
    "\n",
    "# Step 2: Create an empty dictionary called inventory\n",
    "inventory = {}\n",
    "\n",
    "# Step 3: Ask the user to input the quantity of each product and store it in the inventory\n",
    "for product in products:\n",
    "    quantity = int(input(f\"Enter the quantity of {product}s available in inventory: \"))\n",
    "    inventory[product] = quantity\n",
    "\n",
    "# Step 4: Create an empty set called customer_orders\n",
    "customer_orders = set()\n",
    "\n",
    "# Step 5: Ask the user to input the name of products the customer wants to order\n",
    "while True:\n",
    "    order = input(\"Enter the name of a product to order: \").lower()\n",
    "    if order in products:\n",
    "        customer_orders.add(order)\n",
    "    else:\n",
    "        print(f\"{order} is not in the products list. Please enter a valid product.\")\n",
    "\n",
    "    another = input(\"Do you want to add another product? (yes/no): \").lower()\n",
    "    if another != 'yes':\n",
    "        break\n",
    "\n",
    "# Step 6: Print the products in the customer_orders set\n",
    "print(\"\\nProducts in customer order:\", customer_orders)\n",
    "\n",
    "# Step 7: Calculate order statistics\n",
    "total_products_ordered = len(customer_orders)\n",
    "total_available_products = len(products)\n",
    "percentage_ordered = (total_products_ordered / total_available_products) * 100\n",
    "\n",
    "# Step 8: Store the statistics in a tuple called order_status\n",
    "order_status = (total_products_ordered, percentage_ordered)\n",
    "\n",
    "# Step 9: Print the order statistics\n",
    "print(\"\\nOrder Statistics:\")\n",
    "print(f\"Total Products Ordered: {order_status[0]}\")\n",
    "print(f\"Percentage of Products Ordered: {order_status[1]:.2f}%\")\n",
    "\n",
    "# Step 10: Update the inventory only for the products that were ordered\n",
    "for product in customer_orders:\n",
    "    if inventory[product] > 0:\n",
    "        inventory[product] -= 1\n",
    "    else:\n",
    "        print(f\"Sorry, {product} is out of stock.\")\n",
    "\n",
    "# Step 11: Print the updated inventory\n",
    "print(\"\\nUpdated Inventory:\")\n",
    "for product, quantity in inventory.items():\n",
    "    print(f\"{product}: {quantity}\")\n"
   ]
  }
 ],
 "metadata": {
  "kernelspec": {
   "display_name": "Python 3 (ipykernel)",
   "language": "python",
   "name": "python3"
  },
  "language_info": {
   "codemirror_mode": {
    "name": "ipython",
    "version": 3
   },
   "file_extension": ".py",
   "mimetype": "text/x-python",
   "name": "python",
   "nbconvert_exporter": "python",
   "pygments_lexer": "ipython3",
   "version": "3.12.5"
  }
 },
 "nbformat": 4,
 "nbformat_minor": 5
}
